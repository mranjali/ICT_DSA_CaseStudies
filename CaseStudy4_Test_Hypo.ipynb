{
 "cells": [
  {
   "cell_type": "markdown",
   "id": "c24e28e7",
   "metadata": {},
   "source": [
    "\n",
    "<font size =6><b><u>Case Study on Testing of Hypothesis</u></b></font>\n"
   ]
  },
  {
   "cell_type": "markdown",
   "id": "7ccb6e41",
   "metadata": {},
   "source": [
    "A company started to invest in digital marketing as a new way of their product\n",
    "promotions.For that they collected data and decided to carry out a study on it.\n",
    "\n",
    "● The company wishes to clarify whether there is any increase in sales after\n",
    "stepping into digital marketing.\n",
    "\n",
    "● The company needs to check whether there is any dependency between the\n",
    "features “Region” and “Manager”.\n",
    "Help the company to carry out their study with the help of data provided."
   ]
  },
  {
   "cell_type": "code",
   "execution_count": 1,
   "id": "1b4a6313",
   "metadata": {},
   "outputs": [],
   "source": [
    "# Import the required libraries\n",
    "import scipy.stats as stats\n",
    "import numpy as np\n",
    "import pandas as pd"
   ]
  },
  {
   "cell_type": "code",
   "execution_count": 2,
   "id": "66132365",
   "metadata": {},
   "outputs": [
    {
     "data": {
      "text/html": [
       "<div>\n",
       "<style scoped>\n",
       "    .dataframe tbody tr th:only-of-type {\n",
       "        vertical-align: middle;\n",
       "    }\n",
       "\n",
       "    .dataframe tbody tr th {\n",
       "        vertical-align: top;\n",
       "    }\n",
       "\n",
       "    .dataframe thead th {\n",
       "        text-align: right;\n",
       "    }\n",
       "</style>\n",
       "<table border=\"1\" class=\"dataframe\">\n",
       "  <thead>\n",
       "    <tr style=\"text-align: right;\">\n",
       "      <th></th>\n",
       "      <th>Month</th>\n",
       "      <th>Region</th>\n",
       "      <th>Manager</th>\n",
       "      <th>Sales_before_digital_add(in $)</th>\n",
       "      <th>Sales_After_digital_add(in $)</th>\n",
       "    </tr>\n",
       "  </thead>\n",
       "  <tbody>\n",
       "    <tr>\n",
       "      <th>0</th>\n",
       "      <td>Month-1</td>\n",
       "      <td>Region - A</td>\n",
       "      <td>Manager - A</td>\n",
       "      <td>132921</td>\n",
       "      <td>270390</td>\n",
       "    </tr>\n",
       "    <tr>\n",
       "      <th>1</th>\n",
       "      <td>Month-2</td>\n",
       "      <td>Region - A</td>\n",
       "      <td>Manager - C</td>\n",
       "      <td>149559</td>\n",
       "      <td>223334</td>\n",
       "    </tr>\n",
       "    <tr>\n",
       "      <th>2</th>\n",
       "      <td>Month-3</td>\n",
       "      <td>Region - B</td>\n",
       "      <td>Manager - A</td>\n",
       "      <td>146278</td>\n",
       "      <td>244243</td>\n",
       "    </tr>\n",
       "    <tr>\n",
       "      <th>3</th>\n",
       "      <td>Month-4</td>\n",
       "      <td>Region - B</td>\n",
       "      <td>Manager - B</td>\n",
       "      <td>152167</td>\n",
       "      <td>231808</td>\n",
       "    </tr>\n",
       "    <tr>\n",
       "      <th>4</th>\n",
       "      <td>Month-5</td>\n",
       "      <td>Region - C</td>\n",
       "      <td>Manager - B</td>\n",
       "      <td>159525</td>\n",
       "      <td>258402</td>\n",
       "    </tr>\n",
       "  </tbody>\n",
       "</table>\n",
       "</div>"
      ],
      "text/plain": [
       "     Month      Region      Manager  Sales_before_digital_add(in $)  \\\n",
       "0  Month-1  Region - A  Manager - A                          132921   \n",
       "1  Month-2  Region - A  Manager - C                          149559   \n",
       "2  Month-3  Region - B  Manager - A                          146278   \n",
       "3  Month-4  Region - B  Manager - B                          152167   \n",
       "4  Month-5  Region - C  Manager - B                          159525   \n",
       "\n",
       "   Sales_After_digital_add(in $)  \n",
       "0                         270390  \n",
       "1                         223334  \n",
       "2                         244243  \n",
       "3                         231808  \n",
       "4                         258402  "
      ]
     },
     "execution_count": 2,
     "metadata": {},
     "output_type": "execute_result"
    }
   ],
   "source": [
    "# Loading the csv file into a pandas dataframe.\n",
    "data = pd.read_csv('Sales_add.csv')\n",
    "data.head(5)"
   ]
  },
  {
   "cell_type": "code",
   "execution_count": 3,
   "id": "e60c7a49",
   "metadata": {},
   "outputs": [
    {
     "name": "stdout",
     "output_type": "stream",
     "text": [
      "<class 'pandas.core.frame.DataFrame'>\n",
      "RangeIndex: 22 entries, 0 to 21\n",
      "Data columns (total 5 columns):\n",
      " #   Column                          Non-Null Count  Dtype \n",
      "---  ------                          --------------  ----- \n",
      " 0   Month                           22 non-null     object\n",
      " 1   Region                          22 non-null     object\n",
      " 2   Manager                         22 non-null     object\n",
      " 3   Sales_before_digital_add(in $)  22 non-null     int64 \n",
      " 4   Sales_After_digital_add(in $)   22 non-null     int64 \n",
      "dtypes: int64(2), object(3)\n",
      "memory usage: 1008.0+ bytes\n"
     ]
    }
   ],
   "source": [
    "# summary of the dataset\n",
    "data.info()"
   ]
  },
  {
   "cell_type": "code",
   "execution_count": 4,
   "id": "7b0be385",
   "metadata": {},
   "outputs": [
    {
     "data": {
      "text/plain": [
       "Month                             0\n",
       "Region                            0\n",
       "Manager                           0\n",
       "Sales_before_digital_add(in $)    0\n",
       "Sales_After_digital_add(in $)     0\n",
       "dtype: int64"
      ]
     },
     "execution_count": 4,
     "metadata": {},
     "output_type": "execute_result"
    }
   ],
   "source": [
    "# Calculating the null values present in each columns in the dataset\n",
    "data.isna().sum() # or data.isnull().sum()"
   ]
  },
  {
   "cell_type": "code",
   "execution_count": 5,
   "id": "bc41e07e",
   "metadata": {},
   "outputs": [
    {
     "data": {
      "text/plain": [
       "22"
      ]
     },
     "execution_count": 5,
     "metadata": {},
     "output_type": "execute_result"
    }
   ],
   "source": [
    "len(data)"
   ]
  },
  {
   "cell_type": "code",
   "execution_count": 6,
   "id": "7ccaf1e7",
   "metadata": {},
   "outputs": [
    {
     "data": {
      "text/plain": [
       "(22, 5)"
      ]
     },
     "execution_count": 6,
     "metadata": {},
     "output_type": "execute_result"
    }
   ],
   "source": [
    "data.shape"
   ]
  },
  {
   "cell_type": "markdown",
   "id": "6d0cffcd",
   "metadata": {},
   "source": [
    "# The company wishes to clarify whether there is any increase in sales after stepping into digital marketing."
   ]
  },
  {
   "cell_type": "code",
   "execution_count": 7,
   "id": "deedc8b7",
   "metadata": {},
   "outputs": [],
   "source": [
    "# Hypothesis\n",
    "# Reject H0: Digital Marketing increase the sales\n",
    "# Reject H1:Digital Marketing not increase the sales"
   ]
  },
  {
   "cell_type": "code",
   "execution_count": 8,
   "id": "12834bf9",
   "metadata": {},
   "outputs": [],
   "source": [
    "sales_before=data['Sales_before_digital_add(in $)']\n",
    "sales_after=data['Sales_After_digital_add(in $)']"
   ]
  },
  {
   "cell_type": "code",
   "execution_count": 9,
   "id": "f6c419fa",
   "metadata": {},
   "outputs": [],
   "source": [
    "tvalue, pvalue = stats.ttest_ind(sales_before,sales_after)"
   ]
  },
  {
   "cell_type": "code",
   "execution_count": 10,
   "id": "62704a05",
   "metadata": {},
   "outputs": [
    {
     "data": {
      "text/plain": [
       "Ttest_indResult(statistic=-12.995084451110877, pvalue=2.614368006904645e-16)"
      ]
     },
     "execution_count": 10,
     "metadata": {},
     "output_type": "execute_result"
    }
   ],
   "source": [
    "stats.ttest_ind(sales_before,sales_after)"
   ]
  },
  {
   "cell_type": "code",
   "execution_count": 11,
   "id": "1e3b97f8",
   "metadata": {},
   "outputs": [],
   "source": [
    "tcriteria=stats.t.ppf((1-0.05),20)"
   ]
  },
  {
   "cell_type": "code",
   "execution_count": 12,
   "id": "b866225e",
   "metadata": {},
   "outputs": [
    {
     "data": {
      "text/plain": [
       "1.7247182429207857"
      ]
     },
     "execution_count": 12,
     "metadata": {},
     "output_type": "execute_result"
    }
   ],
   "source": [
    "# Right tail test since we are checking sales is increasing\n",
    "stats.t.ppf((1-0.05), 20)"
   ]
  },
  {
   "cell_type": "code",
   "execution_count": 13,
   "id": "be1a8061",
   "metadata": {},
   "outputs": [
    {
     "name": "stdout",
     "output_type": "stream",
     "text": [
      "Reject H1:Digital Marketing not increase the sales\n"
     ]
    }
   ],
   "source": [
    "if (tvalue>tcriteria and pvalue <0.05):\n",
    "    print('Reject H0: Digital Marketing increase the sales')\n",
    "else:\n",
    "    print('Reject H1:Digital Marketing not increase the sales')"
   ]
  },
  {
   "cell_type": "markdown",
   "id": "1411cf6c",
   "metadata": {},
   "source": [
    "# The company needs to check whether there is any dependency between the features “Region” and “Manager”."
   ]
  },
  {
   "cell_type": "code",
   "execution_count": 14,
   "id": "831d1367",
   "metadata": {},
   "outputs": [],
   "source": [
    "# Hypothesis\n",
    "# H0: Region and Manager are dependent\n",
    "# H1: Region and Manager are independent"
   ]
  },
  {
   "cell_type": "code",
   "execution_count": 15,
   "id": "42d50010",
   "metadata": {},
   "outputs": [],
   "source": [
    "region=data['Region'].value_counts()\n",
    "manager=data['Manager'].value_counts()\n",
    "tvalue, pvalue = stats.ttest_ind(region,manager)"
   ]
  },
  {
   "cell_type": "code",
   "execution_count": 16,
   "id": "c141b881",
   "metadata": {},
   "outputs": [
    {
     "name": "stdout",
     "output_type": "stream",
     "text": [
      "Region - A    10\n",
      "Region - B     7\n",
      "Region - C     5\n",
      "Name: Region, dtype: int64\n",
      "Manager - A    9\n",
      "Manager - B    7\n",
      "Manager - C    6\n",
      "Name: Manager, dtype: int64\n"
     ]
    }
   ],
   "source": [
    "print(region)\n",
    "print(manager)"
   ]
  },
  {
   "cell_type": "code",
   "execution_count": 17,
   "id": "9ff0bc6e",
   "metadata": {},
   "outputs": [
    {
     "data": {
      "text/plain": [
       "Ttest_indResult(statistic=0.0, pvalue=1.0)"
      ]
     },
     "execution_count": 17,
     "metadata": {},
     "output_type": "execute_result"
    }
   ],
   "source": [
    "stats.ttest_ind(region,manager)"
   ]
  },
  {
   "cell_type": "code",
   "execution_count": 18,
   "id": "ee037b3f",
   "metadata": {},
   "outputs": [],
   "source": [
    "# 2 tail t test since dependent or not\n",
    "tcriteria=(stats.t.ppf((0.05/2), 20))"
   ]
  },
  {
   "cell_type": "code",
   "execution_count": 19,
   "id": "9360ed8d",
   "metadata": {},
   "outputs": [
    {
     "data": {
      "text/plain": [
       "-2.085963447265837"
      ]
     },
     "execution_count": 19,
     "metadata": {},
     "output_type": "execute_result"
    }
   ],
   "source": [
    "stats.t.ppf((0.05/2), 20)"
   ]
  },
  {
   "cell_type": "code",
   "execution_count": 20,
   "id": "0c577bfa",
   "metadata": {},
   "outputs": [
    {
     "name": "stdout",
     "output_type": "stream",
     "text": [
      "Reject H1: Region and Manager are independent\n"
     ]
    }
   ],
   "source": [
    "if np.abs(tvalue)>np.abs(tcriteria) and pvalue <0.05:\n",
    "    print('Reject H0: Region and Manager are dependent')\n",
    "else:\n",
    "    print('Reject H1: Region and Manager are independent')"
   ]
  }
 ],
 "metadata": {
  "kernelspec": {
   "display_name": "Python 3",
   "language": "python",
   "name": "python3"
  },
  "language_info": {
   "codemirror_mode": {
    "name": "ipython",
    "version": 3
   },
   "file_extension": ".py",
   "mimetype": "text/x-python",
   "name": "python",
   "nbconvert_exporter": "python",
   "pygments_lexer": "ipython3",
   "version": "3.8.8"
  }
 },
 "nbformat": 4,
 "nbformat_minor": 5
}
